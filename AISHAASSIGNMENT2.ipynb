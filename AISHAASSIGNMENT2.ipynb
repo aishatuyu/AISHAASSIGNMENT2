{
  "metadata": {
    "language_info": {
      "codemirror_mode": {
        "name": "python",
        "version": 3
      },
      "file_extension": ".py",
      "mimetype": "text/x-python",
      "name": "python",
      "nbconvert_exporter": "python",
      "pygments_lexer": "ipython3",
      "version": "3.8"
    },
    "kernelspec": {
      "name": "python",
      "display_name": "Pyolite",
      "language": "python"
    }
  },
  "nbformat_minor": 4,
  "nbformat": 4,
  "cells": [
    {
      "cell_type": "markdown",
      "source": "AISHAASSIGNMENT",
      "metadata": {}
    },
    {
      "cell_type": "markdown",
      "source": "Introduction<br>\nData science tools are used for diving into raw and complicated data (unstructured or structured data) and processing, extracting, and analyzing it to dig out valuable insights by applying different data processing techniques such as statistics, computer science, predictive modeling and analysis, and deep learning.",
      "metadata": {}
    },
    {
      "cell_type": "markdown",
      "source": "\n1. R\n3. Julia\n5. JavaScript\n4. Scala\n2. Java",
      "metadata": {}
    },
    {
      "cell_type": "markdown",
      "source": "1. SciKit-Learn. ...\n5. PyTorch. ...\n3. Pycaret. ...\n2. TensorFlow. ...\n4. Requests.",
      "metadata": {}
    },
    {
      "cell_type": "markdown",
      "source": "|SerialNumber|Tools|\n|------------|-----|\n|1|R|\n|2|julia|\n|3|javascript|\n|4|Scala|\n|5|java|",
      "metadata": {}
    },
    {
      "cell_type": "code",
      "source": "1 + 2 + 3 + 4 + 5",
      "metadata": {
        "trusted": true
      },
      "execution_count": 7,
      "outputs": [
        {
          "execution_count": 7,
          "output_type": "execute_result",
          "data": {
            "text/plain": "15"
          },
          "metadata": {}
        }
      ]
    },
    {
      "cell_type": "code",
      "source": "(2 * 2) + (2 * 2)",
      "metadata": {
        "trusted": true
      },
      "execution_count": 1,
      "outputs": [
        {
          "execution_count": 1,
          "output_type": "execute_result",
          "data": {
            "text/plain": "8"
          },
          "metadata": {}
        }
      ]
    },
    {
      "cell_type": "markdown",
      "source": "objectives of the study\n1. To understand and Manipulate data\n3. To show data in diagrams\n2. To understand data analysis\n",
      "metadata": {}
    },
    {
      "cell_type": "code",
      "source": "minutes = 120\nhours = minutes / 60\n200/60\n",
      "metadata": {
        "trusted": true
      },
      "execution_count": 2,
      "outputs": [
        {
          "execution_count": 2,
          "output_type": "execute_result",
          "data": {
            "text/plain": "3.3333333333333335"
          },
          "metadata": {}
        }
      ]
    },
    {
      "cell_type": "markdown",
      "source": "Aishatu Yahaya Umar",
      "metadata": {}
    }
  ]
}